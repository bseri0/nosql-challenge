{
 "cells": [
  {
   "cell_type": "markdown",
   "id": "9a57c4c6",
   "metadata": {},
   "source": [
    "# Eat Safe, Love"
   ]
  },
  {
   "cell_type": "markdown",
   "id": "064ef857",
   "metadata": {},
   "source": [
    "## Part 1: Database and Jupyter Notebook Set Up"
   ]
  },
  {
   "cell_type": "markdown",
   "id": "664e3c1f",
   "metadata": {},
   "source": [
    "Import the data provided in the `establishments.json` file from your Terminal. Name the database `uk_food` and the collection `establishments`.\n",
    "\n",
    "Within this markdown cell, copy the line of text you used to import the data from your Terminal. This way, future analysts will be able to repeat your process.\n",
    "\n",
    "e.g.: Import the dataset with `mongoimport --type json -d uk_food -c establishments --drop --jsonArray .\\Resources\\establishments.json`"
   ]
  },
  {
   "cell_type": "code",
   "execution_count": 9,
   "id": "3ecdd008",
   "metadata": {},
   "outputs": [],
   "source": [
    "# Import dependencies\n",
    "from pymongo import MongoClient\n",
    "from pprint import pprint"
   ]
  },
  {
   "cell_type": "code",
   "execution_count": 10,
   "id": "59390c4a",
   "metadata": {},
   "outputs": [],
   "source": [
    "# Create an instance of MongoClient\n",
    "mongo = MongoClient(port=27017)"
   ]
  },
  {
   "cell_type": "code",
   "execution_count": 11,
   "id": "7f9ececa",
   "metadata": {},
   "outputs": [
    {
     "name": "stdout",
     "output_type": "stream",
     "text": [
      "['admin', 'config', 'local', 'met', 'travel_db', 'uk_food']\n"
     ]
    }
   ],
   "source": [
    "# confirm that our new database was created\n",
    "print(mongo.list_database_names())"
   ]
  },
  {
   "cell_type": "code",
   "execution_count": 12,
   "id": "71e373c1",
   "metadata": {},
   "outputs": [],
   "source": [
    "# assign the uk_food database to a variable name\n",
    "db = mongo['uk_food']"
   ]
  },
  {
   "cell_type": "code",
   "execution_count": 14,
   "id": "ef1b89ed",
   "metadata": {},
   "outputs": [
    {
     "name": "stdout",
     "output_type": "stream",
     "text": [
      "['establishments']\n"
     ]
    }
   ],
   "source": [
    "# review the collections in our new database\n",
    "print(db.list_collection_names())"
   ]
  },
  {
   "cell_type": "code",
   "execution_count": 15,
   "id": "6a0d92df",
   "metadata": {},
   "outputs": [
    {
     "name": "stdout",
     "output_type": "stream",
     "text": [
      "{'AddressLine1': 'The Bay',\n",
      " 'AddressLine2': 'St Margarets Bay',\n",
      " 'AddressLine3': 'Kent',\n",
      " 'AddressLine4': '',\n",
      " 'BusinessName': 'The Coastguard Inn',\n",
      " 'BusinessType': 'Pub/bar/nightclub',\n",
      " 'BusinessTypeID': 7843,\n",
      " 'ChangesByServerID': 0,\n",
      " 'Distance': 4587.347174863443,\n",
      " 'FHRSID': 1034540,\n",
      " 'LocalAuthorityBusinessID': 'PI/000078691',\n",
      " 'LocalAuthorityCode': '182',\n",
      " 'LocalAuthorityEmailAddress': 'publicprotection@dover.gov.uk',\n",
      " 'LocalAuthorityName': 'Dover',\n",
      " 'LocalAuthorityWebSite': 'http://www.dover.gov.uk/',\n",
      " 'NewRatingPending': False,\n",
      " 'Phone': '',\n",
      " 'PostCode': 'CT15 6DY',\n",
      " 'RatingDate': '2022-08-17T00:00:00',\n",
      " 'RatingKey': 'fhrs_5_en-gb',\n",
      " 'RatingValue': '5',\n",
      " 'RightToReply': '',\n",
      " 'SchemeType': 'FHRS',\n",
      " '_id': ObjectId('65e4fb5de47be9158bd23a7a'),\n",
      " 'geocode': {'latitude': '51.152225', 'longitude': '1.387974'},\n",
      " 'links': [{'href': 'https://api.ratings.food.gov.uk/establishments/1034540',\n",
      "            'rel': 'self'}],\n",
      " 'meta': {'dataSource': None,\n",
      "          'extractDate': '0001-01-01T00:00:00',\n",
      "          'itemCount': 0,\n",
      "          'pageNumber': 0,\n",
      "          'pageSize': 0,\n",
      "          'returncode': None,\n",
      "          'totalCount': 0,\n",
      "          'totalPages': 0},\n",
      " 'scores': {'ConfidenceInManagement': 0, 'Hygiene': 0, 'Structural': 5}}\n"
     ]
    }
   ],
   "source": [
    "# review a document in the establishments collection\n",
    "pprint(db.establishments.find_one())"
   ]
  },
  {
   "cell_type": "code",
   "execution_count": 16,
   "id": "11c9f11b",
   "metadata": {},
   "outputs": [],
   "source": [
    "# assign the collection to a variable\n",
    "establishments = db['establishments']"
   ]
  },
  {
   "cell_type": "markdown",
   "id": "d5671434",
   "metadata": {},
   "source": [
    "## Part 2: Update the Database"
   ]
  },
  {
   "cell_type": "code",
   "execution_count": 18,
   "id": "4085e1fe",
   "metadata": {},
   "outputs": [
    {
     "data": {
      "text/plain": [
       "39779"
      ]
     },
     "execution_count": 18,
     "metadata": {},
     "output_type": "execute_result"
    }
   ],
   "source": [
    "establishments.count_documents({})\n",
    "\n"
   ]
  },
  {
   "cell_type": "code",
   "execution_count": 19,
   "id": "4f9f2b51",
   "metadata": {},
   "outputs": [
    {
     "name": "stdout",
     "output_type": "stream",
     "text": [
      "Number of documents in result: 0\n"
     ]
    }
   ],
   "source": [
    "query = {'BusinessName': \"Penang Flavours\"}\n",
    "# Print the number of results\n",
    "print(\"Number of documents in result:\", establishments.count_documents(query))\n"
   ]
  },
  {
   "cell_type": "markdown",
   "id": "314bd884",
   "metadata": {},
   "source": [
    "1. An exciting new halal restaurant just opened in Greenwich, but hasn't been rated yet. The magazine has asked you to include it in your analysis. Add the following restaurant \"Penang Flavours\" to the database."
   ]
  },
  {
   "cell_type": "code",
   "execution_count": 20,
   "id": "c2da7648",
   "metadata": {},
   "outputs": [
    {
     "name": "stdout",
     "output_type": "stream",
     "text": [
      "New restaurant added with ID: 65e5149d7a36f82c7ba349a1\n"
     ]
    }
   ],
   "source": [
    "# Create a dictionary for the new restaurant data\n",
    "\n",
    "# Define the document for the new restaurant\n",
    "new_restaurant = {\n",
    "    'BusinessName': 'Penang Flavours',\n",
    "    'BusinessType': 'Restaurant',\n",
    "    'AddressLine1': '123 Challenge st',\n",
    "    'AddressLine2': 'Greenwich',\n",
    "    'BusinessTypeID': None, # Assuming we don't have a specific type ID\n",
    "    'RatingValue': 'AwaitingInspection', # Since it hasn't been rated yet\n",
    "    'LocalAuthorityName': 'Greenwich',\n",
    "    'PostCode': 'Unknown', # Assuming postcode is not provided\n",
    "    'RatingDate': None, # No rating date yet\n",
    "    'NewRatingPending': True, # Indicating that a rating is pending\n",
    "    # Add any additional fields as needed\n",
    "}\n",
    "\n",
    "# Insert the new restaurant into the 'establishments' collection\n",
    "result = db.establishments.insert_one(new_restaurant)\n",
    "\n",
    "# Print the ID of the new document\n",
    "print(f\"New restaurant added with ID: {result.inserted_id}\")"
   ]
  },
  {
   "cell_type": "code",
   "execution_count": 21,
   "id": "63bb10f9",
   "metadata": {},
   "outputs": [
    {
     "name": "stdout",
     "output_type": "stream",
     "text": [
      "Number of documents in result: 1\n"
     ]
    }
   ],
   "source": [
    "# Check that the new restaurant was inserted\n",
    "query = {'BusinessName': \"Penang Flavours\"}\n",
    "# Print the number of results\n",
    "print(\"Number of documents in result:\", establishments.count_documents(query))"
   ]
  },
  {
   "cell_type": "markdown",
   "id": "0ef4395a",
   "metadata": {},
   "source": [
    "2. Find the BusinessTypeID for \"Restaurant/Cafe/Canteen\" and return only the `BusinessTypeID` and `BusinessType` fields."
   ]
  },
  {
   "cell_type": "code",
   "execution_count": 37,
   "id": "93c63829",
   "metadata": {},
   "outputs": [
    {
     "name": "stdout",
     "output_type": "stream",
     "text": [
      "{'BusinessType': 'Restaurant/Cafe/Canteen', 'BusinessTypeID': 1}\n"
     ]
    }
   ],
   "source": [
    "# Find the BusinessTypeID for \"Restaurant/Cafe/Canteen\" and return only the BusinessTypeID and BusinessType fields\n",
    "\n",
    "# Define the query to find the BusinessTypeID for \"Restaurant/Cafe/Canteen\"\n",
    "query = {'BusinessType': 'Restaurant/Cafe/Canteen'}\n",
    "\n",
    "# Define the projection to return only BusinessTypeID and BusinessType\n",
    "projection = {'_id': 0, 'BusinessTypeID': 1, 'BusinessType': 1}\n",
    "\n",
    "# Execute the query and projection\n",
    "result = db.establishments.find_one(query, projection)\n",
    "\n",
    "# Print the result\n",
    "if result:\n",
    "    print(result)\n",
    "else:\n",
    "    print(\"No document found matching the criteria.\")"
   ]
  },
  {
   "cell_type": "markdown",
   "id": "4e570caf",
   "metadata": {},
   "source": [
    "3. Update the new restaurant with the `BusinessTypeID` you found."
   ]
  },
  {
   "cell_type": "code",
   "execution_count": 25,
   "id": "7f599f3d",
   "metadata": {},
   "outputs": [
    {
     "name": "stdout",
     "output_type": "stream",
     "text": [
      "Restaurant updated successfully.\n"
     ]
    }
   ],
   "source": [
    "# Update the new restaurant with the correct BusinessTypeID\n",
    "# Define the filter to find the document for \"Penang Flavours\"\n",
    "filter = {'BusinessName': 'Penang Flavours'}\n",
    "\n",
    "# Define the update to be applied\n",
    "update = {'$set': {'BusinessTypeID': 1,\n",
    "                   'BusinessType': 'Restaurant/Cafe/Canteen'}}\n",
    "\n",
    "# Execute the update operation\n",
    "result = db.establishments.update_one(filter, update)\n",
    "\n",
    "# Check if the document was updated and print a message\n",
    "if result.matched_count:\n",
    "    print(\"Restaurant updated successfully.\")\n",
    "else:\n",
    "    print(\"Restaurant not found.\")"
   ]
  },
  {
   "cell_type": "code",
   "execution_count": 28,
   "id": "a6ad16f7",
   "metadata": {},
   "outputs": [
    {
     "name": "stdout",
     "output_type": "stream",
     "text": [
      "Restaurant details:\n",
      "_id: 65e5149d7a36f82c7ba349a1\n",
      "BusinessName: Penang Flavours\n",
      "BusinessType: Restaurant/Cafe/Canteen\n",
      "AddressLine1: 123 Challenge st\n",
      "AddressLine2: Greenwich\n",
      "BusinessTypeID: 1\n",
      "RatingValue: AwaitingInspection\n",
      "LocalAuthorityName: Greenwich\n",
      "PostCode: Unknown\n",
      "RatingDate: None\n",
      "NewRatingPending: True\n"
     ]
    }
   ],
   "source": [
    "# Confirm that the new restaurant was updated\n",
    "# Define the filter to find the document for \"Penang Flavours\"\n",
    "filter = {'BusinessName': 'Penang Flavours'}\n",
    "\n",
    "# Retrieve the document\n",
    "restaurant_document = db.establishments.find_one(filter)\n",
    "\n",
    "# Check if the document was found and print it\n",
    "if restaurant_document:\n",
    "    print(\"Restaurant details:\")\n",
    "    for key, value in restaurant_document.items():\n",
    "        print(f\"{key}: {value}\")\n",
    "else:\n",
    "    print(\"Restaurant not found.\")"
   ]
  },
  {
   "cell_type": "markdown",
   "id": "67281254",
   "metadata": {},
   "source": [
    "4. The magazine is not interested in any establishments in Dover, so check how many documents contain the Dover Local Authority. Then, remove any establishments within the Dover Local Authority from the database, and check the number of documents to ensure they were deleted."
   ]
  },
  {
   "cell_type": "code",
   "execution_count": 29,
   "id": "768474a6",
   "metadata": {},
   "outputs": [
    {
     "name": "stdout",
     "output_type": "stream",
     "text": [
      "Number of documents with LocalAuthorityName as 'Dover': 994\n"
     ]
    }
   ],
   "source": [
    "# Find how many documents have LocalAuthorityName as \"Dover\"\n",
    "# Define the query to match documents where LocalAuthorityName is \"Dover\"\n",
    "query = {'LocalAuthorityName': 'Dover'}\n",
    "\n",
    "# Use count_documents to find how many documents match the query\n",
    "count = db.establishments.count_documents(query)\n",
    "\n",
    "print(f\"Number of documents with LocalAuthorityName as 'Dover': {count}\")"
   ]
  },
  {
   "cell_type": "code",
   "execution_count": 30,
   "id": "a11d5f1b",
   "metadata": {},
   "outputs": [
    {
     "name": "stdout",
     "output_type": "stream",
     "text": [
      "Documents deleted: 994\n"
     ]
    }
   ],
   "source": [
    "# Delete all documents where LocalAuthorityName is \"Dover\"\n",
    "# Define the deletion criteria\n",
    "criteria = {'LocalAuthorityName': 'Dover'}\n",
    "\n",
    "# Perform the deletion\n",
    "delete_result = db.establishments.delete_many(criteria)\n",
    "\n",
    "# Print how many documents were deleted\n",
    "print(f\"Documents deleted: {delete_result.deleted_count}\")"
   ]
  },
  {
   "cell_type": "code",
   "execution_count": 31,
   "id": "2a51aba0",
   "metadata": {},
   "outputs": [
    {
     "name": "stdout",
     "output_type": "stream",
     "text": [
      "Number of documents with LocalAuthorityName as 'Dover': 0\n"
     ]
    }
   ],
   "source": [
    "# Check if any remaining documents include Dover\n",
    "# Define the query to match documents where LocalAuthorityName is \"Dover\"\n",
    "query = {'LocalAuthorityName': 'Dover'}\n",
    "\n",
    "# Use count_documents to find how many documents match the query\n",
    "count = db.establishments.count_documents(query)\n",
    "\n",
    "print(f\"Number of documents with LocalAuthorityName as 'Dover': {count}\")"
   ]
  },
  {
   "cell_type": "code",
   "execution_count": 32,
   "id": "8c356f7b",
   "metadata": {},
   "outputs": [
    {
     "name": "stdout",
     "output_type": "stream",
     "text": [
      "{'AddressLine1': 'East Cliff Pavilion',\n",
      " 'AddressLine2': 'Wear Bay Road',\n",
      " 'AddressLine3': 'Folkestone',\n",
      " 'AddressLine4': 'Kent',\n",
      " 'BusinessName': 'The Pavilion',\n",
      " 'BusinessType': 'Restaurant/Cafe/Canteen',\n",
      " 'BusinessTypeID': 1,\n",
      " 'ChangesByServerID': 0,\n",
      " 'Distance': 4591.765489457773,\n",
      " 'FHRSID': 1043695,\n",
      " 'LocalAuthorityBusinessID': 'PI/000073616',\n",
      " 'LocalAuthorityCode': '188',\n",
      " 'LocalAuthorityEmailAddress': 'foodteam@folkestone-hythe.gov.uk',\n",
      " 'LocalAuthorityName': 'Folkestone and Hythe',\n",
      " 'LocalAuthorityWebSite': 'http://www.folkestone-hythe.gov.uk',\n",
      " 'NewRatingPending': False,\n",
      " 'Phone': '',\n",
      " 'PostCode': 'CT19 6BL',\n",
      " 'RatingDate': '2018-04-04T00:00:00',\n",
      " 'RatingKey': 'fhrs_5_en-gb',\n",
      " 'RatingValue': '5',\n",
      " 'RightToReply': '',\n",
      " 'SchemeType': 'FHRS',\n",
      " '_id': ObjectId('65e4fb5de47be9158bd23d60'),\n",
      " 'geocode': {'latitude': '51.083812', 'longitude': '1.195625'},\n",
      " 'links': [{'href': 'https://api.ratings.food.gov.uk/establishments/1043695',\n",
      "            'rel': 'self'}],\n",
      " 'meta': {'dataSource': None,\n",
      "          'extractDate': '0001-01-01T00:00:00',\n",
      "          'itemCount': 0,\n",
      "          'pageNumber': 0,\n",
      "          'pageSize': 0,\n",
      "          'returncode': None,\n",
      "          'totalCount': 0,\n",
      "          'totalPages': 0},\n",
      " 'scores': {'ConfidenceInManagement': 5, 'Hygiene': 5, 'Structural': 5}}\n"
     ]
    }
   ],
   "source": [
    "# Check that other documents remain with 'find_one'\n",
    "pprint(db.establishments.find_one())"
   ]
  },
  {
   "attachments": {},
   "cell_type": "markdown",
   "id": "e9f1662d",
   "metadata": {},
   "source": [
    "5. Some of the number values are stored as strings, when they should be stored as numbers."
   ]
  },
  {
   "attachments": {},
   "cell_type": "markdown",
   "id": "c46df2df",
   "metadata": {},
   "source": [
    "Use `update_many` to convert `latitude` and `longitude` to decimal numbers."
   ]
  },
  {
   "cell_type": "code",
   "execution_count": 33,
   "id": "fd4112ce",
   "metadata": {},
   "outputs": [
    {
     "name": "stdout",
     "output_type": "stream",
     "text": [
      "Documents updated: 38786\n"
     ]
    }
   ],
   "source": [
    "# Change the data type from String to Decimal for longitude and latitude\n",
    "\n",
    "# Define an aggregation pipeline for the update operation\n",
    "# This converts the latitude and longitude fields from strings to Decimal128,\n",
    "# which is MongoDB's decimal type. If your fields are already in a different numeric type\n",
    "# or if you prefer a different type (like float), adjust accordingly.\n",
    "pipeline = [\n",
    "    {\n",
    "        '$set': {\n",
    "            'geocode.latitude': {\n",
    "                '$convert': {\n",
    "                    'input': '$geocode.latitude',\n",
    "                    'to': 'decimal',\n",
    "                    # Optional: Handle errors during conversion\n",
    "                    'onError': 'Error',  \n",
    "                    'onNull': 'Error'\n",
    "                }\n",
    "            },\n",
    "            'geocode.longitude': {\n",
    "                '$convert': {\n",
    "                    'input': '$geocode.longitude',\n",
    "                    'to': 'decimal',\n",
    "                    # Optional: Handle errors during conversion\n",
    "                    'onError': 'Error',\n",
    "                    'onNull': 'Error'\n",
    "                }\n",
    "            }\n",
    "        }\n",
    "    }\n",
    "]\n",
    "\n",
    "# Execute the update operation\n",
    "result = db.establishments.update_many({}, pipeline)\n",
    "\n",
    "# Print how many documents were updated\n",
    "print(f\"Documents updated: {result.modified_count}\")"
   ]
  },
  {
   "attachments": {},
   "cell_type": "markdown",
   "id": "142e319c",
   "metadata": {},
   "source": [
    "Use `update_many` to convert `RatingValue` to integer numbers."
   ]
  },
  {
   "cell_type": "code",
   "execution_count": 34,
   "id": "04430a5b",
   "metadata": {},
   "outputs": [
    {
     "data": {
      "text/plain": [
       "UpdateResult({'n': 4092, 'nModified': 4092, 'ok': 1.0, 'updatedExisting': True}, acknowledged=True)"
      ]
     },
     "execution_count": 34,
     "metadata": {},
     "output_type": "execute_result"
    }
   ],
   "source": [
    "# Set non 1-5 Rating Values to Null\n",
    "non_ratings = [\"AwaitingInspection\", \"Awaiting Inspection\", \"AwaitingPublication\", \"Pass\", \"Exempt\"]\n",
    "establishments.update_many({\"RatingValue\": {\"$in\": non_ratings}}, [ {'$set':{ \"RatingValue\" : None}} ])"
   ]
  },
  {
   "cell_type": "code",
   "execution_count": 35,
   "id": "92524ccc",
   "metadata": {},
   "outputs": [
    {
     "name": "stdout",
     "output_type": "stream",
     "text": [
      "Documents updated: 34694\n"
     ]
    }
   ],
   "source": [
    "# Change the data type from String to Integer for RatingValue\n",
    "# Define an aggregation pipeline for the update operation\n",
    "# This converts the RatingValue field from a string to an integer.\n",
    "pipeline = [\n",
    "    {\n",
    "        '$set': {\n",
    "            'RatingValue': {\n",
    "                '$convert': {\n",
    "                    'input': '$RatingValue',\n",
    "                    'to': 'int',\n",
    "                    # Optional: Specify what to do if the conversion fails\n",
    "                    'onError': 'Error',\n",
    "                    'onNull': 'Error'\n",
    "                }\n",
    "            }\n",
    "        }\n",
    "    }\n",
    "]\n",
    "\n",
    "# Execute the update operation for documents where RatingValue is a numeric string\n",
    "result = db.establishments.update_many(\n",
    "    # This filter attempts to exclude non-numeric values by using a regex match.\n",
    "    # It's a basic filter and may need adjustment to accurately match your data.\n",
    "    {'RatingValue': {'$regex': '^\\d+$'}},\n",
    "    pipeline\n",
    ")\n",
    "\n",
    "# Print how many documents were updated\n",
    "print(f\"Documents updated: {result.modified_count}\")"
   ]
  },
  {
   "cell_type": "code",
   "execution_count": 36,
   "id": "0deacaf9",
   "metadata": {},
   "outputs": [
    {
     "name": "stdout",
     "output_type": "stream",
     "text": [
      "Latitude: 51.083812, Type: <class 'bson.decimal128.Decimal128'>\n",
      "Longitude: 1.195625, Type: <class 'bson.decimal128.Decimal128'>\n",
      "RatingValue: 5, Type: <class 'int'>\n"
     ]
    }
   ],
   "source": [
    "# Check that the coordinates and rating value are now numbers\n",
    "# Retrieve a single document from the 'establishments' collection\n",
    "sample_document = db.establishments.find_one()\n",
    "\n",
    "# Print the sample document's latitude, longitude, and RatingValue, along with their types\n",
    "if sample_document and 'geocode' in sample_document:\n",
    "    latitude = sample_document['geocode']['latitude']\n",
    "    longitude = sample_document['geocode']['longitude']\n",
    "    print(f\"Latitude: {latitude}, Type: {type(latitude)}\")\n",
    "    print(f\"Longitude: {longitude}, Type: {type(longitude)}\")\n",
    "else:\n",
    "    print(\"No geocode information available in the sample document.\")\n",
    "\n",
    "if 'RatingValue' in sample_document:\n",
    "    rating_value = sample_document['RatingValue']\n",
    "    print(f\"RatingValue: {rating_value}, Type: {type(rating_value)}\")\n",
    "else:\n",
    "    print(\"No RatingValue field available in the sample document.\")"
   ]
  }
 ],
 "metadata": {
  "kernelspec": {
   "display_name": "Python 3 (ipykernel)",
   "language": "python",
   "name": "python3"
  },
  "language_info": {
   "codemirror_mode": {
    "name": "ipython",
    "version": 3
   },
   "file_extension": ".py",
   "mimetype": "text/x-python",
   "name": "python",
   "nbconvert_exporter": "python",
   "pygments_lexer": "ipython3",
   "version": "3.10.13"
  }
 },
 "nbformat": 4,
 "nbformat_minor": 5
}
